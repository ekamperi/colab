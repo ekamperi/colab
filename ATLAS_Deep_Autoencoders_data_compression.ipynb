{
 "cells": [
  {
   "cell_type": "markdown",
   "metadata": {},
   "source": [
    "## Importing and normalizing data"
   ]
  },
  {
   "cell_type": "markdown",
   "metadata": {},
   "source": [
    "In this notebook, we will train an autoencoder network starting from some ATLAS data, which we will first normalize.  "
   ]
  },
  {
   "cell_type": "code",
   "execution_count": 1,
   "metadata": {},
   "outputs": [
    {
     "name": "stdout",
     "output_type": "stream",
     "text": [
      "---------- Original dataset ----------\n",
      "     energy        pt       eta      phi\n",
      "0  258722.0  243675.0  0.328962  2.25014\n",
      "1  520092.0  108590.0 -2.247300 -1.85679\n",
      "2  383024.0   88405.6  2.145160 -1.95635\n",
      "3   39507.6   35365.1  0.470460 -1.16445\n",
      "4  225430.0   26878.2 -2.816080 -2.25938\n"
     ]
    }
   ],
   "source": [
    "import pandas as pd\n",
    "import re\n",
    "\n",
    "def read_data(input_path):\n",
    "    '''Reads data from the input_path CSV file.\n",
    "    The format of the given CSV file is:\n",
    "    event ID; process ID; event weight; MET; METphi; (continued to next line)\n",
    "    obj1, E1, pt1, eta1, phi1; obj2, E2, pt2, eta2, phi2;...\n",
    "    '''\n",
    "    jets = []\n",
    "    with open(input_path) as f:\n",
    "        for line in f:\n",
    "            tokens = re.split(',|;', line)\n",
    "            for i, token in enumerate(tokens):\n",
    "                if token == 'j':\n",
    "                    current_jet = [float(e) for e in tokens[(i+1):(i+5)]]\n",
    "                    jets.append(current_jet)\n",
    "    return jets\n",
    "\n",
    "# This is the input CSV file\n",
    "input_path = r'monojet_Zp2000.0_DM_50.0_chan3.csv'\n",
    "jets = read_data(input_path)\n",
    "\n",
    "print('---------- Original dataset ----------')\n",
    "full_df = pd.DataFrame(jets, columns=('energy','pt','eta','phi'))\n",
    "print(full_df.head(5))\n"
   ]
  },
  {
   "cell_type": "code",
   "execution_count": 2,
   "metadata": {},
   "outputs": [
    {
     "name": "stdout",
     "output_type": "stream",
     "text": [
      "-------- Forward transformed dataset --------\n",
      "     energy        pt       eta       phi\n",
      "0  5.412833  5.386811  0.065792  0.750047\n",
      "1  5.716080  5.035790 -0.449460 -0.618930\n",
      "2  5.583226  4.946480  0.429032 -0.652117\n",
      "3  4.596681  4.548575  0.094092 -0.388150\n",
      "4  5.353012  4.429400 -0.563216 -0.753127\n",
      "-------- Inverse transformed dataset --------\n",
      "     energy        pt       eta      phi\n",
      "0  258722.0  243675.0  0.328962  2.25014\n",
      "1  520092.0  108590.0 -2.247300 -1.85679\n",
      "2  383024.0   88405.6  2.145160 -1.95635\n",
      "3   39507.6   35365.1  0.470460 -1.16445\n",
      "4  225430.0   26878.2 -2.816080 -2.25938\n"
     ]
    }
   ],
   "source": [
    "import numpy as np\n",
    "\n",
    "def forward_transform(df):\n",
    "    '''Given a pandas dataframe df, containing 4-momentum\n",
    "    of simulated particles, apply some transformations to render\n",
    "    the distributions closer to normal. Depending on the activation\n",
    "    function of the output layer of the autoencoder, we may need to\n",
    "    normalize the data to [-1, +1].\n",
    "\n",
    "    NOTE: If you modify this code, do not forget to also modify\n",
    "    the inverse_transform() function accordingly.\n",
    "    '''\n",
    "    df['energy'] = np.log10(df['energy'])\n",
    "    df['pt'] = np.log10(df['pt'])\n",
    "    df['eta'] = df['eta'] / 5.\n",
    "    df['phi'] = df['phi'] / 3.\n",
    "    return df\n",
    "\n",
    "def inverse_transform(df):\n",
    "    '''Given a pandas dataframe df, containing transformed 4-momentum\n",
    "    of simulated particles, apply the inverse transformations to reconstruct\n",
    "    the original distributions withe their physical units.\n",
    "    '''\n",
    "    df['energy'] = 10. ** df['energy']\n",
    "    df['pt'] = 10. ** df['pt']\n",
    "    df['eta'] = 5. * df['eta']\n",
    "    df['phi'] = 3. * df['phi']\n",
    "    return df\n",
    "\n",
    "print('-------- Forward transformed dataset --------')\n",
    "full_df = forward_transform(full_df)\n",
    "print(full_df.head(5))\n",
    "\n",
    "print('-------- Inverse transformed dataset --------')\n",
    "full_df = inverse_transform(full_df)\n",
    "print(full_df.head(5))\n",
    "\n",
    "# Apply again the forward transformation\n",
    "full_df = forward_transform(full_df)"
   ]
  },
  {
   "cell_type": "markdown",
   "metadata": {},
   "source": [
    "Now we plot the data using the matplotlib library. The units reflect the normalization, but it's the shape that we care about. "
   ]
  },
  {
   "cell_type": "code",
   "execution_count": 3,
   "metadata": {},
   "outputs": [
    {
     "data": {
      "image/png": "[encoded data removed]",
      "text/plain": [
       "<Figure size 1080x576 with 4 Axes>"
      ]
     },
     "metadata": {
      "needs_background": "light"
     },
     "output_type": "display_data"
    }
   ],
   "source": [
    "import matplotlib.pyplot as plt\n",
    "\n",
    "unit_list = ['[$log_{10}(energy)$]', '$[log_{10}(pt)$]', '[$eta/5$]', '[$phi/3$]']\n",
    "variable_list = [r'$E$', r'$p_T$', r'$\\eta$', r'$\\phi$']\n",
    "branches=['energy', 'pt', 'eta', 'phi']\n",
    "n_bins = 100\n",
    "\n",
    "plt.figure(figsize=(15, 8))\n",
    "for i in range(0, 4):\n",
    "    plt.subplot(2, 2, i+1)\n",
    "    n_hist_data, bin_edges, _ = plt.hist(\n",
    "        full_df[branches[i]], label='Input', alpha=1, bins=n_bins)\n",
    "    plt.xlabel(xlabel=variable_list[i] + ' ' + unit_list[i])\n",
    "    plt.ylabel('Number of jets')\n",
    "plt.show()"
   ]
  },
  {
   "cell_type": "markdown",
   "metadata": {},
   "source": [
    "## Setting up the network"
   ]
  },
  {
   "cell_type": "markdown",
   "metadata": {},
   "source": [
    "### Preparing the data"
   ]
  },
  {
   "cell_type": "markdown",
   "metadata": {},
   "source": [
    "Adding the two datasets as TensorDatasets to PyTorch (also loading all other classes we'll need later)"
   ]
  },
  {
   "cell_type": "code",
   "execution_count": 4,
   "metadata": {},
   "outputs": [
    {
     "name": "stdout",
     "output_type": "stream",
     "text": [
      "Tensor of 4-momentum of a jet: tensor([5.4128, 5.3868, 0.0658, 0.7500])\n",
      "Input tensor: tensor([5.4128, 5.3868, 0.0658, 0.7500])\n",
      "Output tensor: tensor([5.4128, 5.3868, 0.0658, 0.7500])\n"
     ]
    }
   ],
   "source": [
    "import torch\n",
    "import torch.nn as nn\n",
    "import torch.optim as optim\n",
    "import torch.utils.data\n",
    "from torch.autograd import Variable\n",
    "\n",
    "from torch.utils.data import TensorDataset\n",
    "from torch.utils.data import DataLoader\n",
    "\n",
    "from fastai import learner\n",
    "from fastai.data import core\n",
    "\n",
    "# Create a Tensor from the full_df pandas dataframe,\n",
    "# after converting it to a numpy.ndarray.\n",
    "full_te = torch.from_numpy(full_df.to_numpy()).to(dtype=torch.float32)\n",
    "print('Tensor of 4-momentum of a jet:', full_te[0])\n",
    "\n",
    "# Since we are building an autoencoder, by definition\n",
    "# the input and the output is the same!\n",
    "full_ds = TensorDataset(full_te, full_te)\n",
    "print('Input tensor:', full_ds[0][0])\n",
    "print('Output tensor:', full_ds[0][1])\n",
    "\n",
    "# Split the full dataset into a train set (80%) and a test set (20%)\n",
    "# Since we aren't doing any hyperparameter optimization, we don't have\n",
    "# a separate validation set.\n",
    "train_size = int(0.8 * len(full_ds))\n",
    "test_size = len(full_ds) - train_size\n",
    "\n",
    "train_ds, test_ds = torch.utils.data.random_split(full_ds, [train_size, test_size])"
   ]
  },
  {
   "cell_type": "markdown",
   "metadata": {},
   "source": [
    "We now set things up to load the data, and we use a batch size that was optimized by previous students. Note also that this is fastai v2, migration thanks to Jessica Lastow."
   ]
  },
  {
   "cell_type": "code",
   "execution_count": 5,
   "metadata": {},
   "outputs": [],
   "source": [
    "bs = 256\n",
    "\n",
    "# Converts the TensorDataset into a DataLoader object and\n",
    "# combines into one DataLoaders object (a basic wrapper\n",
    "# around several DataLoader objects). \n",
    "train_dl = DataLoader(train_ds, batch_size=bs, shuffle=True)\n",
    "test_dl = DataLoader(test_ds, batch_size=bs * 2)\n",
    "dls = core.DataLoaders(train_dl, test_dl)"
   ]
  },
  {
   "cell_type": "markdown",
   "metadata": {},
   "source": [
    "### Preparing the network"
   ]
  },
  {
   "cell_type": "markdown",
   "metadata": {},
   "source": [
    "Here we have an example network. Details aren't too important, as long as they match what was already trained for us...in this case we have a LeakyReLU, tanh activation function, and a number of layers that goes from 4 to 200 to 20 to 3 (number of features in the hidden layer that we pick for testing compression) and then back all the way to 4. "
   ]
  },
  {
   "cell_type": "code",
   "execution_count": 6,
   "metadata": {},
   "outputs": [
    {
     "data": {
      "text/plain": [
       "AE_3D_200_LeakyReLU(\n",
       "  (en1): Linear(in_features=4, out_features=200, bias=True)\n",
       "  (en2): Linear(in_features=200, out_features=200, bias=True)\n",
       "  (en3): Linear(in_features=200, out_features=20, bias=True)\n",
       "  (en4): Linear(in_features=20, out_features=3, bias=True)\n",
       "  (de1): Linear(in_features=3, out_features=20, bias=True)\n",
       "  (de2): Linear(in_features=20, out_features=200, bias=True)\n",
       "  (de3): Linear(in_features=200, out_features=200, bias=True)\n",
       "  (de4): Linear(in_features=200, out_features=4, bias=True)\n",
       "  (tanh): Tanh()\n",
       ")"
      ]
     },
     "execution_count": 6,
     "metadata": {},
     "output_type": "execute_result"
    }
   ],
   "source": [
    "class AE_3D_200_LeakyReLU(nn.Module):\n",
    "    def __init__(self, n_features=4):\n",
    "        super(AE_3D_200_LeakyReLU, self).__init__()\n",
    "        self.en1 = nn.Linear(n_features, 200)\n",
    "        self.en2 = nn.Linear(200, 200)\n",
    "        self.en3 = nn.Linear(200, 20)\n",
    "        self.en4 = nn.Linear(20, 3)\n",
    "        self.de1 = nn.Linear(3, 20)\n",
    "        self.de2 = nn.Linear(20, 200)\n",
    "        self.de3 = nn.Linear(200, 200)\n",
    "        self.de4 = nn.Linear(200, n_features)\n",
    "        self.tanh = nn.Tanh()\n",
    "\n",
    "    def encode(self, x):\n",
    "        return self.en4(self.tanh(self.en3(self.tanh(self.en2(self.tanh(self.en1(x)))))))\n",
    "\n",
    "    def decode(self, x):\n",
    "        return self.de4(self.tanh(self.de3(self.tanh(self.de2(self.tanh(self.de1(self.tanh(x))))))))\n",
    "\n",
    "    def forward(self, x):\n",
    "        z = self.encode(x)\n",
    "        return self.decode(z)\n",
    "\n",
    "    def describe(self):\n",
    "        return 'in-200-200-20-3-20-200-200-out'\n",
    "\n",
    "#model = AE_3D_200_LeakyReLU().double()\n",
    "model = AE_3D_200_LeakyReLU()\n",
    "model.to('cpu')"
   ]
  },
  {
   "cell_type": "markdown",
   "metadata": {},
   "source": [
    "We now have to pick a loss function - MSE loss is appropriate for a compression autoencoder since it reflects the [(input-output)/input] physical quantity that we want to minimize. "
   ]
  },
  {
   "cell_type": "code",
   "execution_count": 7,
   "metadata": {},
   "outputs": [],
   "source": [
    "from fastai.metrics import mse\n",
    "loss_func = nn.MSELoss()\n",
    "wd = 1e-6\n",
    "recorder = learner.Recorder()\n",
    "learn = learner.Learner(dls, model=model, wd=wd, loss_func=loss_func, cbs=recorder)"
   ]
  },
  {
   "cell_type": "markdown",
   "metadata": {},
   "source": [
    "## Training a new network"
   ]
  },
  {
   "cell_type": "markdown",
   "metadata": {},
   "source": [
    "Instead of using a pre-trained network, an alternative is to train a new network and use that instead. "
   ]
  },
  {
   "cell_type": "markdown",
   "metadata": {},
   "source": [
    "First, we want to find the best learning rate. The learning rate is a hyper-paramater that sets how much the weights of the network will change each step with respect to the loss gradient.\n",
    "\n",
    "Then we plot the loss versus the learning rates. We're interested in finding a good order of magnitude of learning rate, so we plot with a log scale.\n",
    "\n",
    "A good value for the learning rates is then either:\n",
    "- one tenth of the minimum before the divergence\n",
    "- when the slope is the steepest"
   ]
  },
  {
   "cell_type": "code",
   "execution_count": 8,
   "metadata": {},
   "outputs": [
    {
     "name": "stdout",
     "output_type": "stream",
     "text": [
      "Learning rate with the minimum loss: 0.02089296132326126\n",
      "Learning rate with the steepest gradient: 0.0020892962347716093\n"
     ]
    },
    {
     "data": {
      "image/png": "[encoded data removed]",
      "text/plain": [
       "<Figure size 432x288 with 1 Axes>"
      ]
     },
     "metadata": {
      "needs_background": "light"
     },
     "output_type": "display_data"
    }
   ],
   "source": [
    "from fastai.callback import schedule\n",
    "\n",
    "lr_min, lr_steep = learn.lr_find()\n",
    "\n",
    "print('Learning rate with the minimum loss:', lr_min)\n",
    "print('Learning rate with the steepest gradient:', lr_steep)"
   ]
  },
  {
   "cell_type": "markdown",
   "metadata": {},
   "source": [
    "Now we want to run the training!\n",
    "\n",
    "User-chosen variables:\n",
    "- n_epochs: The number of epochs, i.e how many times the to run through all of the training data once\n",
    "- lr: The learning rate. Either choose lr_min, lr_steep from above or set your own.\n"
   ]
  },
  {
   "cell_type": "code",
   "execution_count": 9,
   "metadata": {},
   "outputs": [
    {
     "name": "stdout",
     "output_type": "stream",
     "text": [
      "--------------- START ---------------\n",
      "[0, 9.446900367736816, 6.155877113342285, '00:01']\n",
      "[0, 9.446900367736816, 6.155877113342285, '00:01']\n",
      "[1, 3.5077130794525146, 0.4614648222923279, '00:01']\n",
      "[1, 3.5077130794525146, 0.4614648222923279, '00:01']\n",
      "[2, 0.9946731925010681, 0.2342105656862259, '00:01']\n",
      "[2, 0.9946731925010681, 0.2342105656862259, '00:01']\n",
      "[3, 0.40813779830932617, 0.2263559252023697, '00:01']\n",
      "[3, 0.40813779830932617, 0.2263559252023697, '00:01']\n",
      "[4, 0.269766628742218, 0.22609904408454895, '00:01']\n",
      "[4, 0.269766628742218, 0.22609904408454895, '00:01']\n",
      "[5, 0.23675218224525452, 0.22585764527320862, '00:01']\n",
      "[5, 0.23675218224525452, 0.22585764527320862, '00:01']\n",
      "[6, 0.21602705121040344, 0.1782209277153015, '00:01']\n",
      "[6, 0.21602705121040344, 0.1782209277153015, '00:01']\n",
      "[7, 0.138469398021698, 0.058275289833545685, '00:01']\n",
      "[7, 0.138469398021698, 0.058275289833545685, '00:01']\n",
      "[8, 0.0640207976102829, 0.038836538791656494, '00:01']\n",
      "[8, 0.0640207976102829, 0.038836538791656494, '00:01']\n",
      "[9, 0.04433722794055939, 0.03932223096489906, '00:01']\n",
      "[9, 0.04433722794055939, 0.03932223096489906, '00:01']\n",
      "[10, 0.03999705985188484, 0.043311361223459244, '00:01']\n",
      "[10, 0.03999705985188484, 0.043311361223459244, '00:01']\n",
      "[11, 0.040773045271635056, 0.03909322991967201, '00:01']\n",
      "[11, 0.040773045271635056, 0.03909322991967201, '00:01']\n",
      "[12, 0.04122969135642052, 0.045467816293239594, '00:01']\n",
      "[12, 0.04122969135642052, 0.045467816293239594, '00:01']\n",
      "[13, 0.04032715782523155, 0.03763332590460777, '00:01']\n",
      "[13, 0.04032715782523155, 0.03763332590460777, '00:01']\n",
      "[14, 0.0393526554107666, 0.04534450173377991, '00:01']\n",
      "[14, 0.0393526554107666, 0.04534450173377991, '00:01']\n",
      "[15, 0.026641305536031723, 0.01779727265238762, '00:01']\n",
      "[15, 0.026641305536031723, 0.01779727265238762, '00:01']\n",
      "[16, 0.019041040912270546, 0.01821756176650524, '00:01']\n",
      "[16, 0.019041040912270546, 0.01821756176650524, '00:01']\n",
      "[17, 0.016750125214457512, 0.014428427442908287, '00:01']\n",
      "[17, 0.016750125214457512, 0.014428427442908287, '00:01']\n",
      "[18, 0.012179574929177761, 0.0051618656143546104, '00:01']\n",
      "[18, 0.012179574929177761, 0.0051618656143546104, '00:01']\n",
      "[19, 0.00889274850487709, 0.015059443190693855, '00:01']\n",
      "[19, 0.00889274850487709, 0.015059443190693855, '00:01']\n",
      "[20, 0.006571764592081308, 0.0039129494689404964, '00:01']\n",
      "[20, 0.006571764592081308, 0.0039129494689404964, '00:01']\n",
      "[21, 0.005738598760217428, 0.026962723582983017, '00:01']\n",
      "[21, 0.005738598760217428, 0.026962723582983017, '00:01']\n",
      "[22, 0.007553716655820608, 0.003053070278838277, '00:01']\n",
      "[22, 0.007553716655820608, 0.003053070278838277, '00:01']\n",
      "[23, 0.007001058664172888, 0.008713334798812866, '00:01']\n",
      "[23, 0.007001058664172888, 0.008713334798812866, '00:01']\n",
      "[24, 0.006368786562234163, 0.005232173018157482, '00:01']\n",
      "[24, 0.006368786562234163, 0.005232173018157482, '00:01']\n",
      "[25, 0.004418089520186186, 0.008021346293389797, '00:01']\n",
      "[25, 0.004418089520186186, 0.008021346293389797, '00:01']\n",
      "[26, 0.004072435200214386, 0.002035372192040086, '00:01']\n",
      "[26, 0.004072435200214386, 0.002035372192040086, '00:01']\n",
      "[27, 0.003989486955106258, 0.0007602163823321462, '00:01']\n",
      "[27, 0.003989486955106258, 0.0007602163823321462, '00:01']\n",
      "[28, 0.003583806799724698, 0.002267628675326705, '00:01']\n",
      "[28, 0.003583806799724698, 0.002267628675326705, '00:01']\n",
      "[29, 0.0036245188675820827, 0.0009348535095341504, '00:01']\n",
      "[29, 0.0036245188675820827, 0.0009348535095341504, '00:01']\n",
      "[30, 0.003058851230889559, 0.0025972560979425907, '00:01']\n",
      "[30, 0.003058851230889559, 0.0025972560979425907, '00:01']\n",
      "[31, 0.003032927168533206, 0.001577525632455945, '00:01']\n",
      "[31, 0.003032927168533206, 0.001577525632455945, '00:01']\n",
      "[32, 0.0028650937601923943, 0.0004747706407215446, '00:01']\n",
      "[32, 0.0028650937601923943, 0.0004747706407215446, '00:01']\n",
      "[33, 0.0035503655672073364, 0.0019130141008645296, '00:01']\n",
      "[33, 0.0035503655672073364, 0.0019130141008645296, '00:01']\n",
      "[34, 0.002547161653637886, 0.0025861957110464573, '00:01']\n",
      "[34, 0.002547161653637886, 0.0025861957110464573, '00:01']\n",
      "[35, 0.0025683678686618805, 0.0022809274960309267, '00:01']\n",
      "[35, 0.0025683678686618805, 0.0022809274960309267, '00:01']\n",
      "[36, 0.002194029279053211, 0.0007701315334998071, '00:01']\n",
      "[36, 0.002194029279053211, 0.0007701315334998071, '00:01']\n",
      "[37, 0.0022480711340904236, 0.001070168218575418, '00:01']\n",
      "[37, 0.0022480711340904236, 0.001070168218575418, '00:01']\n",
      "[38, 0.00263031804934144, 0.0006896038539707661, '00:01']\n",
      "[38, 0.00263031804934144, 0.0006896038539707661, '00:01']\n",
      "[39, 0.0015140591422095895, 0.001673742663115263, '00:01']\n",
      "[39, 0.0015140591422095895, 0.001673742663115263, '00:01']\n",
      "[40, 0.002853258280083537, 0.0024190128315240145, '00:01']\n",
      "[40, 0.002853258280083537, 0.0024190128315240145, '00:01']\n",
      "[41, 0.0016069491393864155, 0.0005644900375045836, '00:01']\n",
      "[41, 0.0016069491393864155, 0.0005644900375045836, '00:01']\n",
      "[42, 0.0014959338586777449, 0.002863707020878792, '00:01']\n",
      "[42, 0.0014959338586777449, 0.002863707020878792, '00:01']\n",
      "[43, 0.0013641455443575978, 0.0006621761713176966, '00:01']\n",
      "[43, 0.0013641455443575978, 0.0006621761713176966, '00:01']\n",
      "[44, 0.0020585274323821068, 0.0017102599376812577, '00:01']\n",
      "[44, 0.0020585274323821068, 0.0017102599376812577, '00:01']\n",
      "[45, 0.0013377857394516468, 0.0009520722087472677, '00:01']\n",
      "[45, 0.0013377857394516468, 0.0009520722087472677, '00:01']\n",
      "[46, 0.0014151755021885037, 0.0005664264317601919, '00:01']\n",
      "[46, 0.0014151755021885037, 0.0005664264317601919, '00:01']\n",
      "[47, 0.0009782114066183567, 0.0005823700339533389, '00:01']\n",
      "[47, 0.0009782114066183567, 0.0005823700339533389, '00:01']\n",
      "[48, 0.0009288738365285099, 0.00044903281377628446, '00:01']\n",
      "[48, 0.0009288738365285099, 0.00044903281377628446, '00:01']\n",
      "[49, 0.0007700867718085647, 0.00021051103249192238, '00:01']\n",
      "[49, 0.0007700867718085647, 0.00021051103249192238, '00:01']\n",
      "[50, 0.0006796992965973914, 0.0002539641282055527, '00:01']\n",
      "[50, 0.0006796992965973914, 0.0002539641282055527, '00:01']\n",
      "[51, 0.0007615386857651174, 0.00035684704198502004, '00:01']\n",
      "[51, 0.0007615386857651174, 0.00035684704198502004, '00:01']\n",
      "[52, 0.0005358871421776712, 0.0002091414062306285, '00:01']\n",
      "[52, 0.0005358871421776712, 0.0002091414062306285, '00:01']\n",
      "[53, 0.0006157584139145911, 0.000829902826808393, '00:01']\n",
      "[53, 0.0006157584139145911, 0.000829902826808393, '00:01']\n",
      "[54, 0.0004957874189130962, 0.0007513886084780097, '00:01']\n",
      "[54, 0.0004957874189130962, 0.0007513886084780097, '00:01']\n",
      "[55, 0.000506674696225673, 0.0005751537391915917, '00:01']\n",
      "[55, 0.000506674696225673, 0.0005751537391915917, '00:01']\n",
      "[56, 0.00041052023880183697, 0.0005277525051496923, '00:01']\n",
      "[56, 0.00041052023880183697, 0.0005277525051496923, '00:01']\n",
      "[57, 0.0003874262620229274, 7.024993828963488e-05, '00:01']\n",
      "[57, 0.0003874262620229274, 7.024993828963488e-05, '00:01']\n",
      "[58, 0.00028927059611305594, 0.000559753505513072, '00:01']\n",
      "[58, 0.00028927059611305594, 0.000559753505513072, '00:01']\n",
      "[59, 0.00035423721419647336, 8.472530316794291e-05, '00:01']\n",
      "[59, 0.00035423721419647336, 8.472530316794291e-05, '00:01']\n",
      "[60, 0.00025533552980050445, 0.00014591739454772323, '00:01']\n",
      "[60, 0.00025533552980050445, 0.00014591739454772323, '00:01']\n",
      "[61, 0.0002388028078712523, 0.00022176843776833266, '00:01']\n",
      "[61, 0.0002388028078712523, 0.00022176843776833266, '00:01']\n",
      "[62, 0.00019667345623020083, 5.7294480939162895e-05, '00:01']\n",
      "[62, 0.00019667345623020083, 5.7294480939162895e-05, '00:01']\n",
      "[63, 0.00020800242782570422, 8.576232357881963e-05, '00:01']\n",
      "[63, 0.00020800242782570422, 8.576232357881963e-05, '00:01']\n",
      "[64, 0.00014267243386711925, 0.00014454737538471818, '00:01']\n",
      "[64, 0.00014267243386711925, 0.00014454737538471818, '00:01']\n",
      "[65, 0.0001306984486291185, 3.768858368857764e-05, '00:01']\n",
      "[65, 0.0001306984486291185, 3.768858368857764e-05, '00:01']\n",
      "[66, 0.00012709452130366117, 3.8689981010975316e-05, '00:01']\n",
      "[66, 0.00012709452130366117, 3.8689981010975316e-05, '00:01']\n",
      "[67, 9.438018605578691e-05, 7.128617289708927e-05, '00:01']\n",
      "[67, 9.438018605578691e-05, 7.128617289708927e-05, '00:01']\n",
      "[68, 9.144710202235729e-05, 7.347512291744351e-05, '00:01']\n",
      "[68, 9.144710202235729e-05, 7.347512291744351e-05, '00:01']\n",
      "[69, 7.689316407777369e-05, 0.00019435018475633115, '00:01']\n",
      "[69, 7.689316407777369e-05, 0.00019435018475633115, '00:01']\n"
     ]
    },
    {
     "name": "stdout",
     "output_type": "stream",
     "text": [
      "[70, 6.905639020260423e-05, 2.8997314075240865e-05, '00:01']\n",
      "[70, 6.905639020260423e-05, 2.8997314075240865e-05, '00:01']\n",
      "[71, 5.8790246839635074e-05, 8.851460734149441e-05, '00:01']\n",
      "[71, 5.8790246839635074e-05, 8.851460734149441e-05, '00:01']\n",
      "[72, 4.9854421376949176e-05, 1.9114902897854336e-05, '00:01']\n",
      "[72, 4.9854421376949176e-05, 1.9114902897854336e-05, '00:01']\n",
      "[73, 5.5311815231107175e-05, 2.1325813577277586e-05, '00:01']\n",
      "[73, 5.5311815231107175e-05, 2.1325813577277586e-05, '00:01']\n",
      "[74, 3.052360989386216e-05, 2.1134965209057555e-05, '00:01']\n",
      "[74, 3.052360989386216e-05, 2.1134965209057555e-05, '00:01']\n",
      "[75, 3.960269896197133e-05, 2.6321533368900418e-05, '00:01']\n",
      "[75, 3.960269896197133e-05, 2.6321533368900418e-05, '00:01']\n",
      "[76, 2.4766504793660715e-05, 1.5000753592175897e-05, '00:01']\n",
      "[76, 2.4766504793660715e-05, 1.5000753592175897e-05, '00:01']\n",
      "[77, 2.144382415281143e-05, 1.3132382264302578e-05, '00:01']\n",
      "[77, 2.144382415281143e-05, 1.3132382264302578e-05, '00:01']\n",
      "[78, 2.098229197144974e-05, 1.6464766304125078e-05, '00:01']\n",
      "[78, 2.098229197144974e-05, 1.6464766304125078e-05, '00:01']\n",
      "[79, 1.7783391740522347e-05, 2.889240568038076e-05, '00:01']\n",
      "[79, 1.7783391740522347e-05, 2.889240568038076e-05, '00:01']\n",
      "[80, 1.59286009875359e-05, 1.3886241504224017e-05, '00:01']\n",
      "[80, 1.59286009875359e-05, 1.3886241504224017e-05, '00:01']\n",
      "[81, 1.2920353583467659e-05, 1.2285129741940182e-05, '00:01']\n",
      "[81, 1.2920353583467659e-05, 1.2285129741940182e-05, '00:01']\n",
      "[82, 1.2060922927048523e-05, 1.4070045835978817e-05, '00:01']\n",
      "[82, 1.2060922927048523e-05, 1.4070045835978817e-05, '00:01']\n",
      "[83, 1.1760903362301178e-05, 9.02230658539338e-06, '00:01']\n",
      "[83, 1.1760903362301178e-05, 9.02230658539338e-06, '00:01']\n",
      "[84, 9.908600986818783e-06, 8.765999155002646e-06, '00:01']\n",
      "[84, 9.908600986818783e-06, 8.765999155002646e-06, '00:01']\n",
      "[85, 8.63913373905234e-06, 8.442438229394611e-06, '00:01']\n",
      "[85, 8.63913373905234e-06, 8.442438229394611e-06, '00:01']\n",
      "[86, 8.064997018664144e-06, 8.119734047795646e-06, '00:01']\n",
      "[86, 8.064997018664144e-06, 8.119734047795646e-06, '00:01']\n",
      "[87, 8.427551620115992e-06, 1.0072652912640478e-05, '00:01']\n",
      "[87, 8.427551620115992e-06, 1.0072652912640478e-05, '00:01']\n",
      "[88, 7.395070497295819e-06, 7.767367605993059e-06, '00:01']\n",
      "[88, 7.395070497295819e-06, 7.767367605993059e-06, '00:01']\n",
      "[89, 6.7733476498688105e-06, 7.148146778490627e-06, '00:01']\n",
      "[89, 6.7733476498688105e-06, 7.148146778490627e-06, '00:01']\n",
      "[90, 6.614658104808768e-06, 7.234104486997239e-06, '00:01']\n",
      "[90, 6.614658104808768e-06, 7.234104486997239e-06, '00:01']\n",
      "[91, 6.491415206255624e-06, 7.162080692069139e-06, '00:01']\n",
      "[91, 6.491415206255624e-06, 7.162080692069139e-06, '00:01']\n",
      "[92, 6.219382157723885e-06, 7.0598121055809315e-06, '00:01']\n",
      "[92, 6.219382157723885e-06, 7.0598121055809315e-06, '00:01']\n",
      "[93, 5.955942924629198e-06, 6.784147444705013e-06, '00:01']\n",
      "[93, 5.955942924629198e-06, 6.784147444705013e-06, '00:01']\n",
      "[94, 5.887700353923719e-06, 6.776718691980932e-06, '00:01']\n",
      "[94, 5.887700353923719e-06, 6.776718691980932e-06, '00:01']\n",
      "[95, 5.700726433133241e-06, 6.69567043587449e-06, '00:01']\n",
      "[95, 5.700726433133241e-06, 6.69567043587449e-06, '00:01']\n",
      "[96, 5.5562154557264876e-06, 6.690142527077114e-06, '00:01']\n",
      "[96, 5.5562154557264876e-06, 6.690142527077114e-06, '00:01']\n",
      "[97, 5.570209850702668e-06, 6.5786812228907365e-06, '00:01']\n",
      "[97, 5.570209850702668e-06, 6.5786812228907365e-06, '00:01']\n",
      "[98, 5.487591806740966e-06, 6.52988228466711e-06, '00:01']\n",
      "[98, 5.487591806740966e-06, 6.52988228466711e-06, '00:01']\n",
      "[99, 5.505445187736768e-06, 6.515344466606621e-06, '00:01']\n",
      "[99, 5.505445187736768e-06, 6.515344466606621e-06, '00:01']\n",
      "Training took 112.1820940731559 seconds\n"
     ]
    }
   ],
   "source": [
    "import time\n",
    "\n",
    "print('--------------- START ---------------')\n",
    "n_epochs=100\n",
    "start = time.perf_counter() # Starts timer\n",
    "learn.fit_one_cycle(n_epochs, lr_steep)\n",
    "end = time.perf_counter() # Ends timer\n",
    "delta_t = end - start\n",
    "print('Training took', delta_t, 'seconds')"
   ]
  },
  {
   "cell_type": "markdown",
   "metadata": {},
   "source": [
    "Then we plot the loss as a function of the epochs, for both train and test set. We check if we reach a plateau, i.e. whether the optimizer converged. We also check that the validation loss does not increase, i.e. that we don't overfit our data."
   ]
  },
  {
   "cell_type": "code",
   "execution_count": 10,
   "metadata": {},
   "outputs": [
    {
     "data": {
      "image/png": "[encoded data removed]",
      "text/plain": [
       "<Figure size 432x288 with 1 Axes>"
      ]
     },
     "metadata": {
      "needs_background": "light"
     },
     "output_type": "display_data"
    }
   ],
   "source": [
    "recorder.plot_loss()"
   ]
  },
  {
   "cell_type": "markdown",
   "metadata": {},
   "source": [
    "Then we evaluate the MSE on this network - it should be of the order of 0.001 or less if all has gone well. If it has not trained as well, then it's going to be a bit higher."
   ]
  },
  {
   "cell_type": "code",
   "execution_count": 11,
   "metadata": {},
   "outputs": [
    {
     "data": {
      "text/plain": [
       "(#1) [6.515344466606621e-06]"
      ]
     },
     "execution_count": 11,
     "metadata": {},
     "output_type": "execute_result"
    }
   ],
   "source": [
    "learn.validate()"
   ]
  },
  {
   "cell_type": "markdown",
   "metadata": {},
   "source": [
    "Let's plot all of these, with ratios (thanks to code by Erik Wallin)"
   ]
  },
  {
   "cell_type": "markdown",
   "metadata": {},
   "source": [
    "## Plotting the outputs of the network"
   ]
  },
  {
   "cell_type": "markdown",
   "metadata": {},
   "source": [
    "Lazy-save of our output files (they'll also be on screen)"
   ]
  },
  {
   "cell_type": "code",
   "execution_count": 12,
   "metadata": {},
   "outputs": [],
   "source": [
    "import os\n",
    "save_dir = \"plotOutput\"\n",
    "if not os.path.exists(save_dir):\n",
    "    os.makedirs(save_dir)\n",
    "    \n",
    "save = False # Option to save figures"
   ]
  },
  {
   "cell_type": "markdown",
   "metadata": {},
   "source": [
    "Make the histograms from the dataset."
   ]
  },
  {
   "cell_type": "code",
   "execution_count": 13,
   "metadata": {},
   "outputs": [
    {
     "data": {
      "image/png": "[encoded data removed]",
      "text/plain": [
       "<Figure size 1080x576 with 4 Axes>"
      ]
     },
     "metadata": {
      "needs_background": "light"
     },
     "output_type": "display_data"
    }
   ],
   "source": [
    "# Get the input and target data in the test set\n",
    "test_x, test_y = full_ds[test_ds.indices]\n",
    "\n",
    "# Let us evaluate our model on inference mode. At the moment,\n",
    "# we don't have any batch normalization or dropout layers,\n",
    "# but it's a good practice to call eval() nonetheless. Also,\n",
    "# turn off gradients' computation to speed things up.\n",
    "model.eval()\n",
    "with torch.no_grad():\n",
    "    pred = model(test_x)\n",
    "\n",
    "data = test_y.detach().numpy()    # ground truth 4-momentum values\n",
    "pred = pred.detach().numpy()      # predicted 4-momentum values\n",
    "\n",
    "# Construct pandas data frames for the ground truth\n",
    "# and the predicted data. The columns' labels are the\n",
    "# same as the original data frame.\n",
    "data_df = pd.DataFrame(data, columns=full_df.columns)\n",
    "pred_df = pd.DataFrame(pred, columns=full_df.columns)\n",
    "\n",
    "# Apply the inverse transformation, to go back to the\n",
    "# physical units.\n",
    "unnormalized_data_df = inverse_transform(data_df)\n",
    "unnormalized_pred_df = inverse_transform(pred_df)    \n",
    "\n",
    "# Plot the histograms for all the components of the 4-momentum,\n",
    "# for both ground truth and predicted values, superimposed.\n",
    "# Notice that we are using log-scale for the y-axis.\n",
    "n_bins = 200\n",
    "colors = ['orange', 'c']\n",
    "plt.figure(figsize=(15, 8))\n",
    "for i in np.arange(4):\n",
    "    plt.subplot(2, 2, i+1)\n",
    "    n_hist_data, bin_edges, _ = \\\n",
    "        plt.hist(data[:, i], color=colors[1], label='Input', alpha=1., bins=n_bins)\n",
    "    n_hist_pred, _, _ = \\\n",
    "        plt.hist(pred[:, i], color=colors[0], label='Output', alpha=0.8, bins=bin_edges)\n",
    "    plt.xlabel(full_df.columns[i])\n",
    "    plt.ylabel('Number of jets')\n",
    "    plt.yscale('log')\n",
    "    if save:\n",
    "        plt.savefig(os.path.join(save_dir, full_df.columns[i] + '.png'))\n",
    "    plt.legend()"
   ]
  },
  {
   "cell_type": "code",
   "execution_count": 14,
   "metadata": {},
   "outputs": [
    {
     "data": {
      "image/png": "[encoded data removed]",
      "text/plain": [
       "<Figure size 1080x576 with 4 Axes>"
      ]
     },
     "metadata": {
      "needs_background": "light"
     },
     "output_type": "display_data"
    }
   ],
   "source": [
    "plt.figure(figsize=(15, 8))\n",
    "for i in range(4):\n",
    "    plt.subplot(2, 2, i+1)\n",
    "    # Hack: Change bins for eta and phi\n",
    "    bins = None\n",
    "    if i > 1:\n",
    "        binwidth = .1\n",
    "        bins = np.arange(-1., 1. + binwidth, binwidth);\n",
    "    plt.hist((pred[:,i] - data[:,i]) / data[:,i], bins=bins)\n",
    "    plt.xlabel('Relative reconstruction error of [' + full_df.columns[i] + ']')\n",
    "    plt.ylabel('Count')"
   ]
  },
  {
   "cell_type": "code",
   "execution_count": 15,
   "metadata": {},
   "outputs": [
    {
     "data": {
      "image/png": "[encoded data removed]",
      "text/plain": [
       "<Figure size 432x288 with 1 Axes>"
      ]
     },
     "metadata": {
      "needs_background": "light"
     },
     "output_type": "display_data"
    }
   ],
   "source": [
    "def getRatio(bin1, bin2):\n",
    "    '''Given the values of the histogram bins bin1 and bin2,\n",
    "    return a list of relative errors for every (bin1, bin2) pair.\n",
    "    '''\n",
    "    bins = []\n",
    "    for b1, b2 in zip(bin1, bin2):\n",
    "        if b1 == 0 and b2 == 0:\n",
    "            bins.append(0.)\n",
    "        elif b2 == 0:\n",
    "            bins.append(None)\n",
    "        else:\n",
    "            bins.append((float(b2)-float(b1))/b1)\n",
    "    return bins\n",
    "\n",
    "ratios = getRatio(n_hist_data, n_hist_pred)\n",
    "#print(rat)\n",
    "\n",
    "plt.hist(ratios)\n",
    "plt.xlabel('Bin ratios')\n",
    "plt.ylabel('Count');"
   ]
  }
 ],
 "metadata": {
  "kernelspec": {
   "display_name": "Python 3",
   "language": "python",
   "name": "python3"
  },
  "language_info": {
   "codemirror_mode": {
    "name": "ipython",
    "version": 3
   },
   "file_extension": ".py",
   "mimetype": "text/x-python",
   "name": "python",
   "nbconvert_exporter": "python",
   "pygments_lexer": "ipython3",
   "version": "3.8.5"
  }
 },
 "nbformat": 4,
 "nbformat_minor": 4
}
