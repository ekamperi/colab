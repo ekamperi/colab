{
 "cells": [
  {
   "cell_type": "markdown",
   "metadata": {},
   "source": [
    "## Importing and normalizing data"
   ]
  },
  {
   "cell_type": "markdown",
   "metadata": {},
   "source": [
    "In this notebook, we will train an autoencoder network starting from some ATLAS data, which we will first normalize.  "
   ]
  },
  {
   "cell_type": "code",
   "execution_count": 1,
   "metadata": {},
   "outputs": [
    {
     "name": "stdout",
     "output_type": "stream",
     "text": [
      "---------- Original dataset ----------\n",
      "     energy        pt       eta      phi\n",
      "0  258722.0  243675.0  0.328962  2.25014\n",
      "1  520092.0  108590.0 -2.247300 -1.85679\n",
      "2  383024.0   88405.6  2.145160 -1.95635\n",
      "3   39507.6   35365.1  0.470460 -1.16445\n",
      "4  225430.0   26878.2 -2.816080 -2.25938\n"
     ]
    }
   ],
   "source": [
    "import pandas as pd\n",
    "import re\n",
    "\n",
    "def read_data(input_path):\n",
    "    '''Reads data from the input_path CSV file.\n",
    "    The format of the given CSV file is:\n",
    "    event ID; process ID; event weight; MET; METphi; (continued to next line)\n",
    "    obj1, E1, pt1, eta1, phi1; obj2, E2, pt2, eta2, phi2;...\n",
    "    '''\n",
    "    jets = []\n",
    "    with open(input_path) as f:\n",
    "        for line in f:\n",
    "            tokens = re.split(',|;', line)\n",
    "            for i, token in enumerate(tokens):\n",
    "                if token == 'j':\n",
    "                    current_jet = [float(e) for e in tokens[(i+1):(i+5)]]\n",
    "                    jets.append(current_jet)\n",
    "    return jets\n",
    "\n",
    "# This is the input CSV file\n",
    "input_path = r'monojet_Zp2000.0_DM_50.0_chan3.csv'\n",
    "jets = read_data(input_path)\n",
    "\n",
    "print('---------- Original dataset ----------')\n",
    "full_df = pd.DataFrame(jets, columns=('energy','pt','eta','phi'))\n",
    "print(full_df.head(5))\n"
   ]
  },
  {
   "cell_type": "code",
   "execution_count": 2,
   "metadata": {},
   "outputs": [
    {
     "name": "stdout",
     "output_type": "stream",
     "text": [
      "-------- Forward transformed dataset --------\n",
      "     energy        pt       eta       phi\n",
      "0  5.412833  5.386811  0.065792  0.750047\n",
      "1  5.716080  5.035790 -0.449460 -0.618930\n",
      "2  5.583226  4.946480  0.429032 -0.652117\n",
      "3  4.596681  4.548575  0.094092 -0.388150\n",
      "4  5.353012  4.429400 -0.563216 -0.753127\n",
      "-------- Inverse transformed dataset --------\n",
      "     energy        pt       eta      phi\n",
      "0  258722.0  243675.0  0.328962  2.25014\n",
      "1  520092.0  108590.0 -2.247300 -1.85679\n",
      "2  383024.0   88405.6  2.145160 -1.95635\n",
      "3   39507.6   35365.1  0.470460 -1.16445\n",
      "4  225430.0   26878.2 -2.816080 -2.25938\n"
     ]
    }
   ],
   "source": [
    "import numpy as np\n",
    "\n",
    "def forward_transform(df):\n",
    "    '''Given a pandas dataframe df, containing 4-momentum\n",
    "    of simulated particles, apply some transformations to render\n",
    "    the distributions closer to normal. Depending on the activation\n",
    "    function of the output layer of the autoencoder, we may need to\n",
    "    normalize the data to [-1, +1].\n",
    "\n",
    "    NOTE: If you modify this code, do not forget to also modify\n",
    "    the inverse_transform() function accordingly.\n",
    "    '''\n",
    "    df['energy'] = np.log10(df['energy'])\n",
    "    df['pt'] = np.log10(df['pt'])\n",
    "    df['eta'] = df['eta'] / 5.\n",
    "    df['phi'] = df['phi'] / 3.\n",
    "    return df\n",
    "\n",
    "def inverse_transform(df):\n",
    "    '''Given a pandas dataframe df, containing transformed 4-momentum\n",
    "    of simulated particles, apply the inverse transformations to reconstruct\n",
    "    the original distributions withe their physical units.\n",
    "    '''\n",
    "    df['energy'] = 10. ** df['energy']\n",
    "    df['pt'] = 10. ** df['pt']\n",
    "    df['eta'] = 5. * df['eta']\n",
    "    df['phi'] = 3. * df['phi']\n",
    "    return df\n",
    "\n",
    "print('-------- Forward transformed dataset --------')\n",
    "full_df = forward_transform(full_df)\n",
    "print(full_df.head(5))\n",
    "\n",
    "print('-------- Inverse transformed dataset --------')\n",
    "full_df = inverse_transform(full_df)\n",
    "print(full_df.head(5))\n",
    "\n",
    "# Apply again the forward transformation\n",
    "full_df = forward_transform(full_df)"
   ]
  },
  {
   "cell_type": "markdown",
   "metadata": {},
   "source": [
    "Now we plot the data using the matplotlib library. The units reflect the normalization, but it's the shape that we care about. "
   ]
  },
  {
   "cell_type": "code",
   "execution_count": 3,
   "metadata": {},
   "outputs": [
    {
     "data": {
      "image/png": "[encoded data removed]",
      "text/plain": [
       "<Figure size 1080x576 with 4 Axes>"
      ]
     },
     "metadata": {
      "needs_background": "light"
     },
     "output_type": "display_data"
    }
   ],
   "source": [
    "import matplotlib.pyplot as plt\n",
    "\n",
    "unit_list = ['[$log_{10}(energy)$]', '$[log_{10}(pt)$]', '[$eta/3$]', '[$phi/3$]']\n",
    "variable_list = [r'$E$', r'$p_T$', r'$\\eta$', r'$\\phi$']\n",
    "branches=['energy', 'pt', 'eta', 'phi']\n",
    "n_bins = 100\n",
    "\n",
    "plt.figure(figsize=(15, 8))\n",
    "for i in range(0, 4):\n",
    "    plt.subplot(2, 2, i+1)\n",
    "    n_hist_data, bin_edges, _ = plt.hist(\n",
    "        full_df[branches[i]], color='gray', label='Input', alpha=1, bins=n_bins)\n",
    "    plt.xlabel(xlabel=variable_list[i] + ' ' + unit_list[i])\n",
    "    plt.ylabel('Number of jets')\n",
    "plt.show()"
   ]
  },
  {
   "cell_type": "markdown",
   "metadata": {},
   "source": [
    "## Setting up the network"
   ]
  },
  {
   "cell_type": "markdown",
   "metadata": {},
   "source": [
    "### Preparing the data"
   ]
  },
  {
   "cell_type": "markdown",
   "metadata": {},
   "source": [
    "Adding the two datasets as TensorDatasets to PyTorch (also loading all other classes we'll need later)"
   ]
  },
  {
   "cell_type": "code",
   "execution_count": 4,
   "metadata": {},
   "outputs": [
    {
     "name": "stdout",
     "output_type": "stream",
     "text": [
      "Tensor of 4-momentum of a jet: tensor([5.4128, 5.3868, 0.0658, 0.7500])\n",
      "Input tensor: tensor([5.4128, 5.3868, 0.0658, 0.7500])\n",
      "Output tensor: tensor([5.4128, 5.3868, 0.0658, 0.7500])\n"
     ]
    }
   ],
   "source": [
    "import torch\n",
    "import torch.nn as nn\n",
    "import torch.optim as optim\n",
    "import torch.utils.data\n",
    "from torch.autograd import Variable\n",
    "\n",
    "from torch.utils.data import TensorDataset\n",
    "from torch.utils.data import DataLoader\n",
    "\n",
    "from fastai import learner\n",
    "from fastai.data import core\n",
    "\n",
    "# Create a Tensor from the full_df pandas dataframe,\n",
    "# after converting it to a numpy.ndarray.\n",
    "full_te = torch.from_numpy(full_df.to_numpy()).to(dtype=torch.float32)\n",
    "print('Tensor of 4-momentum of a jet:', full_te[0])\n",
    "\n",
    "# Since we are building an autoencoder, by definition\n",
    "# the input and the output is the same!\n",
    "full_ds = TensorDataset(full_te, full_te)\n",
    "print('Input tensor:', full_ds[0][0])\n",
    "print('Output tensor:', full_ds[0][1])\n",
    "\n",
    "# Split the full dataset into a train set (80%) and a test set (20%)\n",
    "# Since we aren't doing any hyperparameter optimization, we don't have\n",
    "# a separate validation set.\n",
    "train_size = int(0.8 * len(full_ds))\n",
    "test_size = len(full_ds) - train_size\n",
    "\n",
    "train_ds, test_ds = torch.utils.data.random_split(full_ds, [train_size, test_size])"
   ]
  },
  {
   "cell_type": "markdown",
   "metadata": {},
   "source": [
    "We now set things up to load the data, and we use a batch size that was optimized by previous students. Note also that this is fastai v2, migration thanks to Jessica Lastow."
   ]
  },
  {
   "cell_type": "code",
   "execution_count": 5,
   "metadata": {},
   "outputs": [],
   "source": [
    "bs = 256\n",
    "\n",
    "# Converts the TensorDataset into a DataLoader object and\n",
    "# combines into one DataLoaders object (a basic wrapper\n",
    "# around several DataLoader objects). \n",
    "train_dl = DataLoader(train_ds, batch_size=bs, shuffle=True)\n",
    "test_dl = DataLoader(test_ds, batch_size=bs * 2)\n",
    "dls = core.DataLoaders(train_dl, test_dl)"
   ]
  },
  {
   "cell_type": "markdown",
   "metadata": {},
   "source": [
    "### Preparing the network"
   ]
  },
  {
   "cell_type": "markdown",
   "metadata": {},
   "source": [
    "Here we have an example network. Details aren't too important, as long as they match what was already trained for us...in this case we have a LeakyReLU, tanh activation function, and a number of layers that goes from 4 to 200 to 20 to 3 (number of features in the hidden layer that we pick for testing compression) and then back all the way to 4. "
   ]
  },
  {
   "cell_type": "code",
   "execution_count": 6,
   "metadata": {},
   "outputs": [
    {
     "data": {
      "text/plain": [
       "AE_3D_200_LeakyReLU(\n",
       "  (en1): Linear(in_features=4, out_features=200, bias=True)\n",
       "  (en2): Linear(in_features=200, out_features=200, bias=True)\n",
       "  (en3): Linear(in_features=200, out_features=20, bias=True)\n",
       "  (en4): Linear(in_features=20, out_features=3, bias=True)\n",
       "  (de1): Linear(in_features=3, out_features=20, bias=True)\n",
       "  (de2): Linear(in_features=20, out_features=200, bias=True)\n",
       "  (de3): Linear(in_features=200, out_features=200, bias=True)\n",
       "  (de4): Linear(in_features=200, out_features=4, bias=True)\n",
       "  (tanh): Tanh()\n",
       ")"
      ]
     },
     "execution_count": 6,
     "metadata": {},
     "output_type": "execute_result"
    }
   ],
   "source": [
    "class AE_3D_200_LeakyReLU(nn.Module):\n",
    "    def __init__(self, n_features=4):\n",
    "        super(AE_3D_200_LeakyReLU, self).__init__()\n",
    "        self.en1 = nn.Linear(n_features, 200)\n",
    "        self.en2 = nn.Linear(200, 200)\n",
    "        self.en3 = nn.Linear(200, 20)\n",
    "        self.en4 = nn.Linear(20, 3)\n",
    "        self.de1 = nn.Linear(3, 20)\n",
    "        self.de2 = nn.Linear(20, 200)\n",
    "        self.de3 = nn.Linear(200, 200)\n",
    "        self.de4 = nn.Linear(200, n_features)\n",
    "        self.tanh = nn.Tanh()\n",
    "\n",
    "    def encode(self, x):\n",
    "        return self.en4(self.tanh(self.en3(self.tanh(self.en2(self.tanh(self.en1(x)))))))\n",
    "\n",
    "    def decode(self, x):\n",
    "        return self.de4(self.tanh(self.de3(self.tanh(self.de2(self.tanh(self.de1(self.tanh(x))))))))\n",
    "\n",
    "    def forward(self, x):\n",
    "        z = self.encode(x)\n",
    "        return self.decode(z)\n",
    "\n",
    "    def describe(self):\n",
    "        return 'in-200-200-20-3-20-200-200-out'\n",
    "\n",
    "#model = AE_3D_200_LeakyReLU().double()\n",
    "model = AE_3D_200_LeakyReLU()\n",
    "model.to('cpu')"
   ]
  },
  {
   "cell_type": "markdown",
   "metadata": {},
   "source": [
    "We now have to pick a loss function - MSE loss is appropriate for a compression autoencoder since it reflects the [(input-output)/input] physical quantity that we want to minimize. "
   ]
  },
  {
   "cell_type": "code",
   "execution_count": 7,
   "metadata": {},
   "outputs": [],
   "source": [
    "from fastai.metrics import mse\n",
    "loss_func = nn.MSELoss()\n",
    "wd = 1e-6\n",
    "recorder = learner.Recorder()\n",
    "learn = learner.Learner(dls, model=model, wd=wd, loss_func=loss_func, cbs=recorder)"
   ]
  },
  {
   "cell_type": "markdown",
   "metadata": {},
   "source": [
    "## Training a new network"
   ]
  },
  {
   "cell_type": "markdown",
   "metadata": {},
   "source": [
    "Instead of using a pre-trained network, an alternative is to train a new network and use that instead. "
   ]
  },
  {
   "cell_type": "markdown",
   "metadata": {},
   "source": [
    "First, we want to find the best learning rate. The learning rate is a hyper-paramater that sets how much the weights of the network will change each step with respect to the loss gradient.\n",
    "\n",
    "Then we plot the loss versus the learning rates. We're interested in finding a good order of magnitude of learning rate, so we plot with a log scale.\n",
    "\n",
    "A good value for the learning rates is then either:\n",
    "- one tenth of the minimum before the divergence\n",
    "- when the slope is the steepest"
   ]
  },
  {
   "cell_type": "code",
   "execution_count": 8,
   "metadata": {},
   "outputs": [
    {
     "name": "stdout",
     "output_type": "stream",
     "text": [
      "Learning rate with the minimum loss: 0.00831763744354248\n",
      "Learning rate with the steepest gradient: 0.0020892962347716093\n"
     ]
    },
    {
     "data": {
      "image/png": "[encoded data removed]",
      "text/plain": [
       "<Figure size 432x288 with 1 Axes>"
      ]
     },
     "metadata": {
      "needs_background": "light"
     },
     "output_type": "display_data"
    }
   ],
   "source": [
    "from fastai.callback import schedule\n",
    "\n",
    "lr_min, lr_steep = learn.lr_find()\n",
    "\n",
    "print('Learning rate with the minimum loss:', lr_min)\n",
    "print('Learning rate with the steepest gradient:', lr_steep)"
   ]
  },
  {
   "cell_type": "markdown",
   "metadata": {},
   "source": [
    "Now we want to run the training!\n",
    "\n",
    "User-chosen variables:\n",
    "- n_epochs: The number of epochs, i.e how many times the to run through all of the training data once\n",
    "- lr: The learning rate. Either choose lr_min, lr_steep from above or set your own.\n"
   ]
  },
  {
   "cell_type": "code",
   "execution_count": 9,
   "metadata": {},
   "outputs": [
    {
     "name": "stdout",
     "output_type": "stream",
     "text": [
      "--------------- START ---------------\n",
      "[0, 8.9879789352417, 5.660938262939453, '00:01']\n",
      "[0, 8.9879789352417, 5.660938262939453, '00:01']\n",
      "[1, 3.2329344749450684, 0.42903172969818115, '00:01']\n",
      "[1, 3.2329344749450684, 0.42903172969818115, '00:01']\n",
      "[2, 0.9290761351585388, 0.23570206761360168, '00:01']\n",
      "[2, 0.9290761351585388, 0.23570206761360168, '00:01']\n",
      "[3, 0.3926577866077423, 0.22855906188488007, '00:01']\n",
      "[3, 0.3926577866077423, 0.22855906188488007, '00:01']\n",
      "[4, 0.26579639315605164, 0.228567972779274, '00:01']\n",
      "[4, 0.26579639315605164, 0.228567972779274, '00:01']\n",
      "[5, 0.2357182800769806, 0.22846107184886932, '00:01']\n",
      "[5, 0.2357182800769806, 0.22846107184886932, '00:01']\n",
      "[6, 0.22857198119163513, 0.22933806478977203, '00:01']\n",
      "[6, 0.22857198119163513, 0.22933806478977203, '00:01']\n",
      "[7, 0.22539979219436646, 0.22050391137599945, '00:01']\n",
      "[7, 0.22539979219436646, 0.22050391137599945, '00:01']\n",
      "[8, 0.13497596979141235, 0.047903429716825485, '00:01']\n",
      "[8, 0.13497596979141235, 0.047903429716825485, '00:01']\n",
      "[9, 0.06305678188800812, 0.03822653740644455, '00:01']\n",
      "[9, 0.06305678188800812, 0.03822653740644455, '00:01']\n",
      "[10, 0.04428436979651451, 0.03592468798160553, '00:01']\n",
      "[10, 0.04428436979651451, 0.03592468798160553, '00:01']\n",
      "[11, 0.03047981858253479, 0.015781551599502563, '00:01']\n",
      "[11, 0.03047981858253479, 0.015781551599502563, '00:01']\n",
      "[12, 0.01977771520614624, 0.0132887689396739, '00:01']\n",
      "[12, 0.01977771520614624, 0.0132887689396739, '00:01']\n",
      "[13, 0.014636906795203686, 0.014607269316911697, '00:01']\n",
      "[13, 0.014636906795203686, 0.014607269316911697, '00:01']\n",
      "[14, 0.007103520445525646, 0.004691811744123697, '00:01']\n",
      "[14, 0.007103520445525646, 0.004691811744123697, '00:01']\n",
      "[15, 0.007080104202032089, 0.0043653338216245174, '00:01']\n",
      "[15, 0.007080104202032089, 0.0043653338216245174, '00:01']\n",
      "[16, 0.005142769776284695, 0.000835321843624115, '00:01']\n",
      "[16, 0.005142769776284695, 0.000835321843624115, '00:01']\n",
      "[17, 0.004306635819375515, 0.0009864509338513017, '00:01']\n",
      "[17, 0.004306635819375515, 0.0009864509338513017, '00:01']\n",
      "[18, 0.005119557026773691, 0.004676256328821182, '00:01']\n",
      "[18, 0.005119557026773691, 0.004676256328821182, '00:01']\n",
      "[19, 0.00453701987862587, 0.0010035083396360278, '00:01']\n",
      "[19, 0.00453701987862587, 0.0010035083396360278, '00:01']\n",
      "[20, 0.005562884267419577, 0.005596193019300699, '00:01']\n",
      "[20, 0.005562884267419577, 0.005596193019300699, '00:01']\n",
      "[21, 0.004376873839646578, 0.0075905960984528065, '00:01']\n",
      "[21, 0.004376873839646578, 0.0075905960984528065, '00:01']\n",
      "[22, 0.006437541916966438, 0.002741083037108183, '00:01']\n",
      "[22, 0.006437541916966438, 0.002741083037108183, '00:01']\n",
      "[23, 0.00456681614741683, 0.0005998716223984957, '00:01']\n",
      "[23, 0.00456681614741683, 0.0005998716223984957, '00:01']\n",
      "[24, 0.004016996826976538, 0.007907528430223465, '00:01']\n",
      "[24, 0.004016996826976538, 0.007907528430223465, '00:01']\n",
      "[25, 0.0037271638866513968, 0.0005296283634379506, '00:01']\n",
      "[25, 0.0037271638866513968, 0.0005296283634379506, '00:01']\n",
      "[26, 0.004815073683857918, 0.01200992800295353, '00:01']\n",
      "[26, 0.004815073683857918, 0.01200992800295353, '00:01']\n",
      "[27, 0.0037058088928461075, 0.0015694259200245142, '00:01']\n",
      "[27, 0.0037058088928461075, 0.0015694259200245142, '00:01']\n",
      "[28, 0.002775066066533327, 0.0015628327382728457, '00:01']\n",
      "[28, 0.002775066066533327, 0.0015628327382728457, '00:01']\n",
      "[29, 0.0028278990648686886, 0.007016550283879042, '00:01']\n",
      "[29, 0.0028278990648686886, 0.007016550283879042, '00:01']\n",
      "[30, 0.002742040902376175, 0.0012136265868321061, '00:01']\n",
      "[30, 0.002742040902376175, 0.0012136265868321061, '00:01']\n",
      "[31, 0.002588439267128706, 0.0012358144158497453, '00:01']\n",
      "[31, 0.002588439267128706, 0.0012358144158497453, '00:01']\n",
      "[32, 0.0022202099207788706, 0.0005280967452563345, '00:01']\n",
      "[32, 0.0022202099207788706, 0.0005280967452563345, '00:01']\n",
      "[33, 0.002418570453301072, 0.00020604986639227718, '00:01']\n",
      "[33, 0.002418570453301072, 0.00020604986639227718, '00:01']\n",
      "[34, 0.0032804107759147882, 0.0014302597846835852, '00:01']\n",
      "[34, 0.0032804107759147882, 0.0014302597846835852, '00:01']\n",
      "[35, 0.0021568702068179846, 0.00025550072314217687, '00:01']\n",
      "[35, 0.0021568702068179846, 0.00025550072314217687, '00:01']\n",
      "[36, 0.0018157310551032424, 0.0020396350882947445, '00:01']\n",
      "[36, 0.0018157310551032424, 0.0020396350882947445, '00:01']\n",
      "[37, 0.0016499684425070882, 0.005284501705318689, '00:01']\n",
      "[37, 0.0016499684425070882, 0.005284501705318689, '00:01']\n",
      "[38, 0.0018521087476983666, 0.001909092883579433, '00:01']\n",
      "[38, 0.0018521087476983666, 0.001909092883579433, '00:01']\n",
      "[39, 0.001806948333978653, 0.009012795053422451, '00:01']\n",
      "[39, 0.001806948333978653, 0.009012795053422451, '00:01']\n",
      "[40, 0.0017473500920459628, 0.0008826573612168431, '00:01']\n",
      "[40, 0.0017473500920459628, 0.0008826573612168431, '00:01']\n",
      "[41, 0.0017069914611056447, 0.0018922024173662066, '00:01']\n",
      "[41, 0.0017069914611056447, 0.0018922024173662066, '00:01']\n",
      "[42, 0.0017331575509160757, 0.0015544395428150892, '00:01']\n",
      "[42, 0.0017331575509160757, 0.0015544395428150892, '00:01']\n",
      "[43, 0.001255464507266879, 0.000218624496483244, '00:01']\n",
      "[43, 0.001255464507266879, 0.000218624496483244, '00:01']\n",
      "[44, 0.0011840654769912362, 0.00021472627122420818, '00:01']\n",
      "[44, 0.0011840654769912362, 0.00021472627122420818, '00:01']\n",
      "[45, 0.001561871264129877, 0.0007106015109457076, '00:01']\n",
      "[45, 0.001561871264129877, 0.0007106015109457076, '00:01']\n",
      "[46, 0.0009318087832070887, 0.002008479554206133, '00:01']\n",
      "[46, 0.0009318087832070887, 0.002008479554206133, '00:01']\n",
      "[47, 0.000976263836491853, 0.000517993641551584, '00:01']\n",
      "[47, 0.000976263836491853, 0.000517993641551584, '00:01']\n",
      "[48, 0.0008852971950545907, 0.00010736994590843096, '00:01']\n",
      "[48, 0.0008852971950545907, 0.00010736994590843096, '00:01']\n",
      "[49, 0.0006777214002795517, 9.068961662705988e-05, '00:01']\n",
      "[49, 0.0006777214002795517, 9.068961662705988e-05, '00:01']\n",
      "[50, 0.0009250121656805277, 0.0016813392285257578, '00:01']\n",
      "[50, 0.0009250121656805277, 0.0016813392285257578, '00:01']\n",
      "[51, 0.0008659920422360301, 0.00024653333821333945, '00:01']\n",
      "[51, 0.0008659920422360301, 0.00024653333821333945, '00:01']\n",
      "[52, 0.0006885378970764577, 8.162920858012512e-05, '00:01']\n",
      "[52, 0.0006885378970764577, 8.162920858012512e-05, '00:01']\n",
      "[53, 0.0005247282097116113, 0.0006326540606096387, '00:01']\n",
      "[53, 0.0005247282097116113, 0.0006326540606096387, '00:01']\n",
      "[54, 0.0009166768868453801, 0.0003768179740291089, '00:01']\n",
      "[54, 0.0009166768868453801, 0.0003768179740291089, '00:01']\n",
      "[55, 0.0003310148313175887, 7.216638914542273e-05, '00:01']\n",
      "[55, 0.0003310148313175887, 7.216638914542273e-05, '00:01']\n",
      "[56, 0.00031669900636188686, 0.00011338344484101981, '00:01']\n",
      "[56, 0.00031669900636188686, 0.00011338344484101981, '00:01']\n",
      "[57, 0.0004983023391105235, 0.0020530696492642164, '00:01']\n",
      "[57, 0.0004983023391105235, 0.0020530696492642164, '00:01']\n",
      "[58, 0.0002558132982812822, 0.00014356627070810646, '00:01']\n",
      "[58, 0.0002558132982812822, 0.00014356627070810646, '00:01']\n",
      "[59, 0.0003004548489116132, 0.00013194484927225858, '00:01']\n",
      "[59, 0.0003004548489116132, 0.00013194484927225858, '00:01']\n",
      "[60, 0.00026529975002631545, 0.00016617724031675607, '00:01']\n",
      "[60, 0.00026529975002631545, 0.00016617724031675607, '00:01']\n",
      "[61, 0.00022015349532011896, 0.0007480017957277596, '00:01']\n",
      "[61, 0.00022015349532011896, 0.0007480017957277596, '00:01']\n",
      "[62, 0.00022767417249269783, 6.014647806296125e-05, '00:01']\n",
      "[62, 0.00022767417249269783, 6.014647806296125e-05, '00:01']\n",
      "[63, 0.00025206070858985186, 4.915131285088137e-05, '00:01']\n",
      "[63, 0.00025206070858985186, 4.915131285088137e-05, '00:01']\n",
      "[64, 0.00010841703624464571, 7.35594512661919e-05, '00:01']\n",
      "[64, 0.00010841703624464571, 7.35594512661919e-05, '00:01']\n",
      "[65, 0.0002442802651785314, 3.29414579027798e-05, '00:01']\n",
      "[65, 0.0002442802651785314, 3.29414579027798e-05, '00:01']\n",
      "[66, 9.203959052683786e-05, 3.4291064366698265e-05, '00:01']\n",
      "[66, 9.203959052683786e-05, 3.4291064366698265e-05, '00:01']\n",
      "[67, 0.00012032478116452694, 4.1493414755677804e-05, '00:01']\n",
      "[67, 0.00012032478116452694, 4.1493414755677804e-05, '00:01']\n",
      "[68, 8.965430606622249e-05, 3.6535479011945426e-05, '00:01']\n",
      "[68, 8.965430606622249e-05, 3.6535479011945426e-05, '00:01']\n",
      "[69, 8.515002264175564e-05, 0.00011414954497013241, '00:01']\n",
      "[69, 8.515002264175564e-05, 0.00011414954497013241, '00:01']\n"
     ]
    },
    {
     "name": "stdout",
     "output_type": "stream",
     "text": [
      "[70, 7.13189147063531e-05, 3.6687590181827545e-05, '00:01']\n",
      "[70, 7.13189147063531e-05, 3.6687590181827545e-05, '00:01']\n",
      "[71, 5.46227784070652e-05, 1.6916867025429383e-05, '00:01']\n",
      "[71, 5.46227784070652e-05, 1.6916867025429383e-05, '00:01']\n",
      "[72, 5.612665700027719e-05, 5.2612045692512766e-05, '00:01']\n",
      "[72, 5.612665700027719e-05, 5.2612045692512766e-05, '00:01']\n",
      "[73, 3.98834454244934e-05, 1.552602043375373e-05, '00:01']\n",
      "[73, 3.98834454244934e-05, 1.552602043375373e-05, '00:01']\n",
      "[74, 4.111236921744421e-05, 2.5984994863392785e-05, '00:01']\n",
      "[74, 4.111236921744421e-05, 2.5984994863392785e-05, '00:01']\n",
      "[75, 2.982622572744731e-05, 2.6159605113207363e-05, '00:01']\n",
      "[75, 2.982622572744731e-05, 2.6159605113207363e-05, '00:01']\n",
      "[76, 2.6673038519220427e-05, 1.3967240192869212e-05, '00:01']\n",
      "[76, 2.6673038519220427e-05, 1.3967240192869212e-05, '00:01']\n",
      "[77, 2.3518805392086506e-05, 1.8017541151493788e-05, '00:01']\n",
      "[77, 2.3518805392086506e-05, 1.8017541151493788e-05, '00:01']\n",
      "[78, 2.3556540327263065e-05, 1.2150077964179218e-05, '00:01']\n",
      "[78, 2.3556540327263065e-05, 1.2150077964179218e-05, '00:01']\n",
      "[79, 1.8899128917837515e-05, 1.0607343938318081e-05, '00:01']\n",
      "[79, 1.8899128917837515e-05, 1.0607343938318081e-05, '00:01']\n",
      "[80, 1.7666932762949727e-05, 2.8778702471754514e-05, '00:01']\n",
      "[80, 1.7666932762949727e-05, 2.8778702471754514e-05, '00:01']\n",
      "[81, 1.3728969861404039e-05, 1.2123550732212607e-05, '00:01']\n",
      "[81, 1.3728969861404039e-05, 1.2123550732212607e-05, '00:01']\n",
      "[82, 1.2822285498259589e-05, 1.907221849251073e-05, '00:01']\n",
      "[82, 1.2822285498259589e-05, 1.907221849251073e-05, '00:01']\n",
      "[83, 1.2016861546726432e-05, 1.1137548426631838e-05, '00:01']\n",
      "[83, 1.2016861546726432e-05, 1.1137548426631838e-05, '00:01']\n",
      "[84, 1.0370549716753885e-05, 7.943459422676824e-06, '00:01']\n",
      "[84, 1.0370549716753885e-05, 7.943459422676824e-06, '00:01']\n",
      "[85, 1.1405674740672112e-05, 8.441597856290173e-06, '00:01']\n",
      "[85, 1.1405674740672112e-05, 8.441597856290173e-06, '00:01']\n",
      "[86, 9.389351362187881e-06, 8.802249794825912e-06, '00:01']\n",
      "[86, 9.389351362187881e-06, 8.802249794825912e-06, '00:01']\n",
      "[87, 8.75799833011115e-06, 7.404980351566337e-06, '00:01']\n",
      "[87, 8.75799833011115e-06, 7.404980351566337e-06, '00:01']\n",
      "[88, 8.010544661374297e-06, 6.645924258918967e-06, '00:01']\n",
      "[88, 8.010544661374297e-06, 6.645924258918967e-06, '00:01']\n",
      "[89, 7.723033377260435e-06, 7.06436685504741e-06, '00:01']\n",
      "[89, 7.723033377260435e-06, 7.06436685504741e-06, '00:01']\n",
      "[90, 7.287690095836297e-06, 6.837876753706951e-06, '00:01']\n",
      "[90, 7.287690095836297e-06, 6.837876753706951e-06, '00:01']\n",
      "[91, 7.366388672380708e-06, 7.221179657790344e-06, '00:01']\n",
      "[91, 7.366388672380708e-06, 7.221179657790344e-06, '00:01']\n",
      "[92, 7.051522516121622e-06, 6.461516477429541e-06, '00:01']\n",
      "[92, 7.051522516121622e-06, 6.461516477429541e-06, '00:01']\n",
      "[93, 6.878293334011687e-06, 6.382722858688794e-06, '00:01']\n",
      "[93, 6.878293334011687e-06, 6.382722858688794e-06, '00:01']\n",
      "[94, 6.759546522516757e-06, 6.061837211746024e-06, '00:01']\n",
      "[94, 6.759546522516757e-06, 6.061837211746024e-06, '00:01']\n",
      "[95, 6.518571808555862e-06, 5.9490439525689e-06, '00:01']\n",
      "[95, 6.518571808555862e-06, 5.9490439525689e-06, '00:01']\n",
      "[96, 6.4286982706107665e-06, 5.833861450810218e-06, '00:01']\n",
      "[96, 6.4286982706107665e-06, 5.833861450810218e-06, '00:01']\n",
      "[97, 6.331211807264481e-06, 5.7171932894561905e-06, '00:01']\n",
      "[97, 6.331211807264481e-06, 5.7171932894561905e-06, '00:01']\n",
      "[98, 6.132900580269052e-06, 5.6990852499438915e-06, '00:01']\n",
      "[98, 6.132900580269052e-06, 5.6990852499438915e-06, '00:01']\n",
      "[99, 6.149051387183135e-06, 5.699027497030329e-06, '00:01']\n",
      "[99, 6.149051387183135e-06, 5.699027497030329e-06, '00:01']\n",
      "Training took 110.35900354105979 seconds\n"
     ]
    }
   ],
   "source": [
    "import time\n",
    "\n",
    "print('--------------- START ---------------')\n",
    "n_epochs=100\n",
    "start = time.perf_counter() # Starts timer\n",
    "learn.fit_one_cycle(n_epochs, lr_steep)\n",
    "end = time.perf_counter() # Ends timer\n",
    "delta_t = end - start\n",
    "print('Training took', delta_t, 'seconds')"
   ]
  },
  {
   "cell_type": "markdown",
   "metadata": {},
   "source": [
    "Then we plot the loss as a function of the epochs, for both train and test set. We check if we reach a plateau, i.e. whether the optimizer converged. We also check that the validation loss does not increase, i.e. that we don't overfit our data."
   ]
  },
  {
   "cell_type": "code",
   "execution_count": 10,
   "metadata": {},
   "outputs": [
    {
     "data": {
      "image/png": "[encoded data removed]",
      "text/plain": [
       "<Figure size 432x288 with 1 Axes>"
      ]
     },
     "metadata": {
      "needs_background": "light"
     },
     "output_type": "display_data"
    }
   ],
   "source": [
    "recorder.plot_loss()"
   ]
  },
  {
   "cell_type": "markdown",
   "metadata": {},
   "source": [
    "Then we evaluate the MSE on this network - it should be of the order of 0.001 or less if all has gone well. If it has not trained as well, then it's going to be a bit higher."
   ]
  },
  {
   "cell_type": "code",
   "execution_count": 11,
   "metadata": {},
   "outputs": [
    {
     "data": {
      "text/plain": [
       "(#1) [5.699027497030329e-06]"
      ]
     },
     "execution_count": 11,
     "metadata": {},
     "output_type": "execute_result"
    }
   ],
   "source": [
    "learn.validate()"
   ]
  },
  {
   "cell_type": "markdown",
   "metadata": {},
   "source": [
    "Let's plot all of these, with ratios (thanks to code by Erik Wallin)"
   ]
  },
  {
   "cell_type": "markdown",
   "metadata": {},
   "source": [
    "## Plotting the outputs of the network"
   ]
  },
  {
   "cell_type": "markdown",
   "metadata": {},
   "source": [
    "Lazy-save of our output files (they'll also be on screen)"
   ]
  },
  {
   "cell_type": "code",
   "execution_count": 12,
   "metadata": {},
   "outputs": [],
   "source": [
    "import os\n",
    "save_dir = \"plotOutput\"\n",
    "if not os.path.exists(save_dir):\n",
    "    os.makedirs(save_dir)\n",
    "    \n",
    "save = False # Option to save figures"
   ]
  },
  {
   "cell_type": "markdown",
   "metadata": {},
   "source": [
    "Make the histograms from the dataset."
   ]
  },
  {
   "cell_type": "code",
   "execution_count": 13,
   "metadata": {},
   "outputs": [
    {
     "data": {
      "image/png": "[encoded data removed]",
      "text/plain": [
       "<Figure size 1080x576 with 4 Axes>"
      ]
     },
     "metadata": {
      "needs_background": "light"
     },
     "output_type": "display_data"
    }
   ],
   "source": [
    "# Get the input and target data in the test set\n",
    "test_x, test_y = full_ds[test_ds.indices]\n",
    "\n",
    "# Let us evaluate our model on inference mode. At the moment,\n",
    "# we don't have any batch normalization or dropout layers,\n",
    "# but it's a good practice to call eval() nonetheless. Also,\n",
    "# turn off gradients' computation to speed things up.\n",
    "model.eval()\n",
    "with torch.no_grad():\n",
    "    pred = model(test_x)\n",
    "\n",
    "data = test_y.detach().numpy()    # ground truth 4-momentum values\n",
    "pred = pred.detach().numpy()      # predicted 4-momentum values\n",
    "\n",
    "# Construct pandas data frames for the ground truth\n",
    "# and the predicted data. The columns' labels are the\n",
    "# same as the original data frame.\n",
    "data_df = pd.DataFrame(data, columns=full_df.columns)\n",
    "pred_df = pd.DataFrame(pred, columns=full_df.columns)\n",
    "\n",
    "# Apply the inverse transformation, to go back to the\n",
    "# physical units.\n",
    "unnormalized_data_df = inverse_transform(data_df)\n",
    "unnormalized_pred_df = inverse_transform(pred_df)    \n",
    "\n",
    "# Plot the histograms for all the components of the 4-momentum,\n",
    "# for both ground truth and predicted values, superimposed.\n",
    "# Notice that we are using log-scale for the y-axis.\n",
    "n_bins = 200\n",
    "colors = ['orange', 'c']\n",
    "plt.figure(figsize=(15, 8))\n",
    "for i in np.arange(4):\n",
    "    plt.subplot(2, 2, i+1)\n",
    "    n_hist_data, bin_edges, _ = \\\n",
    "        plt.hist(data[:, i], color=colors[1], label='Input', alpha=1., bins=n_bins)\n",
    "    n_hist_pred, _, _ = \\\n",
    "        plt.hist(pred[:, i], color=colors[0], label='Output', alpha=0.8, bins=bin_edges)\n",
    "    plt.xlabel(full_df.columns[i])\n",
    "    plt.ylabel('Number of jets')\n",
    "    plt.yscale('log')\n",
    "    if save:\n",
    "        plt.savefig(os.path.join(save_dir, full_df.columns[i] + '.png'))\n",
    "    plt.legend()"
   ]
  },
  {
   "cell_type": "code",
   "execution_count": 14,
   "metadata": {},
   "outputs": [
    {
     "data": {
      "image/png": "[encoded data removed]",
      "text/plain": [
       "<Figure size 1080x576 with 4 Axes>"
      ]
     },
     "metadata": {
      "needs_background": "light"
     },
     "output_type": "display_data"
    }
   ],
   "source": [
    "plt.figure(figsize=(15, 8))\n",
    "for i in range(4):\n",
    "    plt.subplot(2, 2, i+1)\n",
    "    # Hack: Change bins for eta and phi\n",
    "    bins = None\n",
    "    if i > 1:\n",
    "        binwidth = .1\n",
    "        bins = np.arange(-1., 1. + binwidth, binwidth);\n",
    "    plt.hist((pred[:,i] - data[:,i]) / data[:,i], bins=bins)\n",
    "    plt.xlabel('Relative reconstruction error of [' + full_df.columns[i] + ']')\n",
    "    plt.ylabel('Count')"
   ]
  },
  {
   "cell_type": "code",
   "execution_count": 15,
   "metadata": {},
   "outputs": [
    {
     "data": {
      "image/png": "[encoded data removed]",
      "text/plain": [
       "<Figure size 432x288 with 1 Axes>"
      ]
     },
     "metadata": {
      "needs_background": "light"
     },
     "output_type": "display_data"
    }
   ],
   "source": [
    "def getRatio(bin1, bin2):\n",
    "    '''Given the values of the histogram bins bin1 and bin2,\n",
    "    return a list of relative errors for every (bin1, bin2) pair.\n",
    "    '''\n",
    "    bins = []\n",
    "    for b1, b2 in zip(bin1, bin2):\n",
    "        if b1 == 0 and b2 == 0:\n",
    "            bins.append(0.)\n",
    "        elif b2 == 0:\n",
    "            bins.append(None)\n",
    "        else:\n",
    "            bins.append((float(b2)-float(b1))/b1)\n",
    "    return bins\n",
    "\n",
    "ratios = getRatio(n_hist_data, n_hist_pred)\n",
    "#print(rat)\n",
    "\n",
    "plt.hist(ratios)\n",
    "plt.xlabel('Bin ratios')\n",
    "plt.ylabel('Count');"
   ]
  }
 ],
 "metadata": {
  "kernelspec": {
   "display_name": "Python 3",
   "language": "python",
   "name": "python3"
  },
  "language_info": {
   "codemirror_mode": {
    "name": "ipython",
    "version": 3
   },
   "file_extension": ".py",
   "mimetype": "text/x-python",
   "name": "python",
   "nbconvert_exporter": "python",
   "pygments_lexer": "ipython3",
   "version": "3.8.5"
  }
 },
 "nbformat": 4,
 "nbformat_minor": 4
}
